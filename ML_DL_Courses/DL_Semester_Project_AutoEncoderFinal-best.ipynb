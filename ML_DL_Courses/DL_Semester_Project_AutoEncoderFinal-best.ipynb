{
 "cells": [
  {
   "cell_type": "code",
   "execution_count": 1,
   "id": "b7af8602",
   "metadata": {},
   "outputs": [
    {
     "data": {
      "image/png": "[encoded data removed]",
      "text/plain": [
       "<Figure size 432x288 with 1 Axes>"
      ]
     },
     "metadata": {
      "needs_background": "light"
     },
     "output_type": "display_data"
    }
   ],
   "source": [
    "%matplotlib inline\n",
    "\n",
    "import matplotlib.pyplot as plt\n",
    "plt.plot([0, 1, 2, 5])\n",
    "plt.show()"
   ]
  },
  {
   "cell_type": "code",
   "execution_count": 2,
   "id": "64d9fe70",
   "metadata": {},
   "outputs": [
    {
     "name": "stdout",
     "output_type": "stream",
     "text": [
      "C:\\Users\\mcuevas3\n"
     ]
    }
   ],
   "source": [
    "\n",
    "\n",
    "#Set working directory. \n",
    "import os \n",
    "\n",
    "directory = os.getcwd()\n",
    "\n",
    "print(directory)"
   ]
  },
  {
   "cell_type": "code",
   "execution_count": 3,
   "id": "303b7825",
   "metadata": {},
   "outputs": [],
   "source": [
    "#import librarie.s \n",
    "import pandas as pd\n",
    "import numpy as np\n",
    "import warnings "
   ]
  },
  {
   "cell_type": "code",
   "execution_count": 4,
   "id": "3e67f86f",
   "metadata": {},
   "outputs": [],
   "source": [
    "#silence warnings. \n",
    "warnings.filterwarnings('ignore')\n"
   ]
  },
  {
   "cell_type": "code",
   "execution_count": 5,
   "id": "3ad05822",
   "metadata": {},
   "outputs": [],
   "source": [
    "#import apoptosis data. \n",
    "data = pd.read_csv(\"Transposed_Postive_Regulation_Apoptosis.csv\")"
   ]
  },
  {
   "cell_type": "code",
   "execution_count": 6,
   "id": "d58cb2a1",
   "metadata": {},
   "outputs": [],
   "source": [
    "x_frame = data.iloc[: , :-1]\n",
    "\n",
    "\n",
    "y_frame = data.iloc[:,-1:]\n",
    "\n"
   ]
  },
  {
   "cell_type": "code",
   "execution_count": 7,
   "id": "6887142b",
   "metadata": {},
   "outputs": [],
   "source": [
    "#Import librabries. \n",
    "import pandas as pd\n",
    "import numpy as np\n",
    "import warnings \n",
    "\n",
    "from keras.layers import  Input,Dense,Conv2D,MaxPooling2D,UpSampling2D,Reshape, Dense, Dropout, Activation, Flatten, Conv1D, MaxPooling1D\n",
    "from keras import Input, Model\n",
    "from keras.datasets import mnist\n",
    "import numpy as np\n",
    "import matplotlib.pyplot\n",
    "import matplotlib.pyplot as plt\n",
    "from keras.callbacks import EarlyStopping,ModelCheckpoint\n",
    "from sklearn import metrics\n",
    "from scipy import interp\n",
    "from tensorflow.keras.optimizers import SGD\n",
    "from functools import partial\n",
    "import tensorflow as tf\n",
    "from sklearn.model_selection import train_test_split\n",
    "from tensorflow import keras\n",
    "from keras.models import Sequential, Model\n",
    "from keras import optimizers\n",
    "from tensorflow.keras.optimizers import SGD, RMSprop, Adagrad, Adadelta, Adam, Adamax, Nadam\n",
    "from keras.wrappers.scikit_learn import KerasClassifier\n",
    "from sklearn.model_selection import GridSearchCV,StratifiedKFold\n",
    "from sklearn.metrics import f1_score,confusion_matrix\n",
    "import shap\n",
    "from sklearn import preprocessing\n",
    "from sklearn.preprocessing import OrdinalEncoder, OneHotEncoder\n",
    "from sklearn.compose import make_column_transformer\n",
    "from itertools import chain"
   ]
  },
  {
   "cell_type": "code",
   "execution_count": 8,
   "id": "427cb763",
   "metadata": {},
   "outputs": [
    {
     "name": "stdout",
     "output_type": "stream",
     "text": [
      "[[159.   3.   1. ...  50. 110. 152.]\n",
      " [155.   7.   1. ... 121.  17.  28.]\n",
      " [ 20. 133.   1. ...  61. 153. 128.]\n",
      " ...\n",
      " [ 13. 141.   1. ...  96.  83.   6.]\n",
      " [145.  13.   1. ... 144.  57. 154.]\n",
      " [ 46. 110.   1. ... 115.  68.  44.]]\n",
      "(122,)\n",
      "(41, 306)\n",
      "(41,)\n",
      "(122, 306) (122,)\n"
     ]
    }
   ],
   "source": [
    "#Encoding data. \n",
    "le = preprocessing.LabelEncoder()\n",
    "oe = OrdinalEncoder()\n",
    "he = OneHotEncoder()\n",
    "x_frame = oe.fit_transform(x_frame)\n",
    "y_frame =le.fit_transform(y_frame)\n",
    "x_train, x_test, y_train, y_test = train_test_split(x_frame, y_frame)\n",
    "\n",
    "print(x_train)\n",
    "print(y_train.shape)\n",
    "print(x_test.shape)\n",
    "print(y_test.shape)\n",
    "print(x_train.shape, y_train.shape)"
   ]
  },
  {
   "cell_type": "code",
   "execution_count": null,
   "id": "f71ccda2",
   "metadata": {
    "scrolled": true
   },
   "outputs": [],
   "source": []
  },
  {
   "cell_type": "code",
   "execution_count": null,
   "id": "d6d546ce",
   "metadata": {},
   "outputs": [],
   "source": [
    "\n"
   ]
  },
  {
   "cell_type": "code",
   "execution_count": 10,
   "id": "c9894342",
   "metadata": {},
   "outputs": [],
   "source": [
    "#Autoencoder function for optimization. \n",
    "def autoencoder(optimizer ='Adam',learn_rate=0.01, momentum=0):\n",
    "\n",
    "    autoencoder = Sequential()\n",
    "    autoencoder.add(Dense(306,  activation='relu', input_shape=(306, )))\n",
    "    autoencoder.add(Dense(154,  activation='relu'))\n",
    "    autoencoder.add(Dense(1,  activation='sigmoid'))\n",
    "    autoencoder.compile(loss='binary_crossentropy', optimizer = 'Adam', metrics=['accuracy'])\n",
    "    return autoencoder\n"
   ]
  },
  {
   "cell_type": "code",
   "execution_count": null,
   "id": "abb5eadb",
   "metadata": {},
   "outputs": [],
   "source": []
  },
  {
   "cell_type": "code",
   "execution_count": 11,
   "id": "7f0881c6",
   "metadata": {},
   "outputs": [
    {
     "name": "stdout",
     "output_type": "stream",
     "text": [
      "Best: 0.811382 using {'batch_size': 100, 'epochs': 100, 'learn_rate': 0.01, 'optimizer': 'Adadelta'}\n",
      "0.551016 (0.187080) with: {'batch_size': 10, 'epochs': 10, 'learn_rate': 0.001, 'optimizer': 'SGD'}\n",
      "0.673171 (0.098128) with: {'batch_size': 10, 'epochs': 10, 'learn_rate': 0.001, 'optimizer': 'RMSprop'}\n",
      "0.624187 (0.183522) with: {'batch_size': 10, 'epochs': 10, 'learn_rate': 0.001, 'optimizer': 'Adagrad'}\n",
      "0.738415 (0.068124) with: {'batch_size': 10, 'epochs': 10, 'learn_rate': 0.001, 'optimizer': 'Adadelta'}\n",
      "0.729878 (0.051033) with: {'batch_size': 10, 'epochs': 10, 'learn_rate': 0.001, 'optimizer': 'Adam'}\n",
      "0.729878 (0.085810) with: {'batch_size': 10, 'epochs': 10, 'learn_rate': 0.001, 'optimizer': 'Adamax'}\n",
      "0.680081 (0.036671) with: {'batch_size': 10, 'epochs': 10, 'learn_rate': 0.001, 'optimizer': 'Nadam'}\n",
      "0.672358 (0.101473) with: {'batch_size': 10, 'epochs': 10, 'learn_rate': 0.01, 'optimizer': 'SGD'}\n",
      "0.703659 (0.110463) with: {'batch_size': 10, 'epochs': 10, 'learn_rate': 0.01, 'optimizer': 'RMSprop'}\n",
      "0.614024 (0.086787) with: {'batch_size': 10, 'epochs': 10, 'learn_rate': 0.01, 'optimizer': 'Adagrad'}\n",
      "0.729472 (0.039954) with: {'batch_size': 10, 'epochs': 10, 'learn_rate': 0.01, 'optimizer': 'Adadelta'}\n",
      "0.738211 (0.048016) with: {'batch_size': 10, 'epochs': 10, 'learn_rate': 0.01, 'optimizer': 'Adam'}\n",
      "0.713008 (0.013556) with: {'batch_size': 10, 'epochs': 10, 'learn_rate': 0.01, 'optimizer': 'Adamax'}\n",
      "0.696545 (0.120455) with: {'batch_size': 10, 'epochs': 10, 'learn_rate': 0.01, 'optimizer': 'Nadam'}\n",
      "0.770325 (0.024559) with: {'batch_size': 10, 'epochs': 10, 'learn_rate': 0.1, 'optimizer': 'SGD'}\n",
      "0.704878 (0.020211) with: {'batch_size': 10, 'epochs': 10, 'learn_rate': 0.1, 'optimizer': 'RMSprop'}\n",
      "0.713618 (0.047754) with: {'batch_size': 10, 'epochs': 10, 'learn_rate': 0.1, 'optimizer': 'Adagrad'}\n",
      "0.705285 (0.085704) with: {'batch_size': 10, 'epochs': 10, 'learn_rate': 0.1, 'optimizer': 'Adadelta'}\n",
      "0.721341 (0.049854) with: {'batch_size': 10, 'epochs': 10, 'learn_rate': 0.1, 'optimizer': 'Adam'}\n",
      "0.705488 (0.120053) with: {'batch_size': 10, 'epochs': 10, 'learn_rate': 0.1, 'optimizer': 'Adamax'}\n",
      "0.696748 (0.089645) with: {'batch_size': 10, 'epochs': 10, 'learn_rate': 0.1, 'optimizer': 'Nadam'}\n",
      "0.681098 (0.089320) with: {'batch_size': 10, 'epochs': 10, 'learn_rate': 0.2, 'optimizer': 'SGD'}\n",
      "0.689024 (0.058697) with: {'batch_size': 10, 'epochs': 10, 'learn_rate': 0.2, 'optimizer': 'RMSprop'}\n",
      "0.598780 (0.061566) with: {'batch_size': 10, 'epochs': 10, 'learn_rate': 0.2, 'optimizer': 'Adagrad'}\n",
      "0.696951 (0.062950) with: {'batch_size': 10, 'epochs': 10, 'learn_rate': 0.2, 'optimizer': 'Adadelta'}\n",
      "0.737805 (0.021701) with: {'batch_size': 10, 'epochs': 10, 'learn_rate': 0.2, 'optimizer': 'Adam'}\n",
      "0.721748 (0.038949) with: {'batch_size': 10, 'epochs': 10, 'learn_rate': 0.2, 'optimizer': 'Adamax'}\n",
      "0.754065 (0.039933) with: {'batch_size': 10, 'epochs': 10, 'learn_rate': 0.2, 'optimizer': 'Nadam'}\n",
      "0.672561 (0.096984) with: {'batch_size': 10, 'epochs': 10, 'learn_rate': 0.3, 'optimizer': 'SGD'}\n",
      "0.696341 (0.114327) with: {'batch_size': 10, 'epochs': 10, 'learn_rate': 0.3, 'optimizer': 'RMSprop'}\n",
      "0.663618 (0.084209) with: {'batch_size': 10, 'epochs': 10, 'learn_rate': 0.3, 'optimizer': 'Adagrad'}\n",
      "0.672561 (0.038394) with: {'batch_size': 10, 'epochs': 10, 'learn_rate': 0.3, 'optimizer': 'Adadelta'}\n",
      "0.778659 (0.020082) with: {'batch_size': 10, 'epochs': 10, 'learn_rate': 0.3, 'optimizer': 'Adam'}\n",
      "0.681301 (0.109101) with: {'batch_size': 10, 'epochs': 10, 'learn_rate': 0.3, 'optimizer': 'Adamax'}\n",
      "0.712195 (0.093662) with: {'batch_size': 10, 'epochs': 10, 'learn_rate': 0.3, 'optimizer': 'Nadam'}\n",
      "0.720732 (0.063936) with: {'batch_size': 10, 'epochs': 100, 'learn_rate': 0.001, 'optimizer': 'SGD'}\n",
      "0.729472 (0.020164) with: {'batch_size': 10, 'epochs': 100, 'learn_rate': 0.001, 'optimizer': 'RMSprop'}\n",
      "0.704878 (0.039978) with: {'batch_size': 10, 'epochs': 100, 'learn_rate': 0.001, 'optimizer': 'Adagrad'}\n",
      "0.753862 (0.022708) with: {'batch_size': 10, 'epochs': 100, 'learn_rate': 0.001, 'optimizer': 'Adadelta'}\n",
      "0.705081 (0.033026) with: {'batch_size': 10, 'epochs': 100, 'learn_rate': 0.001, 'optimizer': 'Adam'}\n",
      "0.746138 (0.020408) with: {'batch_size': 10, 'epochs': 100, 'learn_rate': 0.001, 'optimizer': 'Adamax'}\n",
      "0.745732 (0.080996) with: {'batch_size': 10, 'epochs': 100, 'learn_rate': 0.001, 'optimizer': 'Nadam'}\n",
      "0.738008 (0.039705) with: {'batch_size': 10, 'epochs': 100, 'learn_rate': 0.01, 'optimizer': 'SGD'}\n",
      "0.754065 (0.039933) with: {'batch_size': 10, 'epochs': 100, 'learn_rate': 0.01, 'optimizer': 'RMSprop'}\n",
      "0.689024 (0.043116) with: {'batch_size': 10, 'epochs': 100, 'learn_rate': 0.01, 'optimizer': 'Adagrad'}\n",
      "0.689228 (0.092394) with: {'batch_size': 10, 'epochs': 100, 'learn_rate': 0.01, 'optimizer': 'Adadelta'}\n",
      "0.705488 (0.050151) with: {'batch_size': 10, 'epochs': 100, 'learn_rate': 0.01, 'optimizer': 'Adam'}\n",
      "0.762195 (0.031092) with: {'batch_size': 10, 'epochs': 100, 'learn_rate': 0.01, 'optimizer': 'Adamax'}\n",
      "0.705285 (0.067595) with: {'batch_size': 10, 'epochs': 100, 'learn_rate': 0.01, 'optimizer': 'Nadam'}\n",
      "0.786585 (0.065104) with: {'batch_size': 10, 'epochs': 100, 'learn_rate': 0.1, 'optimizer': 'SGD'}\n",
      "0.754472 (0.037855) with: {'batch_size': 10, 'epochs': 100, 'learn_rate': 0.1, 'optimizer': 'RMSprop'}\n",
      "0.778862 (0.017960) with: {'batch_size': 10, 'epochs': 100, 'learn_rate': 0.1, 'optimizer': 'Adagrad'}\n",
      "0.745732 (0.024728) with: {'batch_size': 10, 'epochs': 100, 'learn_rate': 0.1, 'optimizer': 'Adadelta'}\n",
      "0.737398 (0.026445) with: {'batch_size': 10, 'epochs': 100, 'learn_rate': 0.1, 'optimizer': 'Adam'}\n",
      "0.737805 (0.008623) with: {'batch_size': 10, 'epochs': 100, 'learn_rate': 0.1, 'optimizer': 'Adamax'}\n",
      "0.713211 (0.021589) with: {'batch_size': 10, 'epochs': 100, 'learn_rate': 0.1, 'optimizer': 'Nadam'}\n",
      "0.737805 (0.021701) with: {'batch_size': 10, 'epochs': 100, 'learn_rate': 0.2, 'optimizer': 'SGD'}\n",
      "0.762602 (0.039895) with: {'batch_size': 10, 'epochs': 100, 'learn_rate': 0.2, 'optimizer': 'RMSprop'}\n",
      "0.689024 (0.090578) with: {'batch_size': 10, 'epochs': 100, 'learn_rate': 0.2, 'optimizer': 'Adagrad'}\n",
      "0.713618 (0.047754) with: {'batch_size': 10, 'epochs': 100, 'learn_rate': 0.2, 'optimizer': 'Adadelta'}\n",
      "0.729472 (0.020164) with: {'batch_size': 10, 'epochs': 100, 'learn_rate': 0.2, 'optimizer': 'Adam'}\n",
      "0.729675 (0.017484) with: {'batch_size': 10, 'epochs': 100, 'learn_rate': 0.2, 'optimizer': 'Adamax'}\n",
      "0.721748 (0.038949) with: {'batch_size': 10, 'epochs': 100, 'learn_rate': 0.2, 'optimizer': 'Nadam'}\n",
      "0.681098 (0.066399) with: {'batch_size': 10, 'epochs': 100, 'learn_rate': 0.3, 'optimizer': 'SGD'}\n",
      "0.745935 (0.030010) with: {'batch_size': 10, 'epochs': 100, 'learn_rate': 0.3, 'optimizer': 'RMSprop'}\n",
      "0.762398 (0.040814) with: {'batch_size': 10, 'epochs': 100, 'learn_rate': 0.3, 'optimizer': 'Adagrad'}\n",
      "0.770528 (0.010447) with: {'batch_size': 10, 'epochs': 100, 'learn_rate': 0.3, 'optimizer': 'Adadelta'}\n",
      "0.770528 (0.010447) with: {'batch_size': 10, 'epochs': 100, 'learn_rate': 0.3, 'optimizer': 'Adam'}\n",
      "0.745732 (0.014660) with: {'batch_size': 10, 'epochs': 100, 'learn_rate': 0.3, 'optimizer': 'Adamax'}\n",
      "0.745935 (0.030010) with: {'batch_size': 10, 'epochs': 100, 'learn_rate': 0.3, 'optimizer': 'Nadam'}\n",
      "0.680081 (0.131181) with: {'batch_size': 100, 'epochs': 10, 'learn_rate': 0.001, 'optimizer': 'SGD'}\n",
      "0.457114 (0.235780) with: {'batch_size': 100, 'epochs': 10, 'learn_rate': 0.001, 'optimizer': 'RMSprop'}\n",
      "0.761179 (0.098331) with: {'batch_size': 100, 'epochs': 10, 'learn_rate': 0.001, 'optimizer': 'Adagrad'}\n",
      "0.794919 (0.042246) with: {'batch_size': 100, 'epochs': 10, 'learn_rate': 0.001, 'optimizer': 'Adadelta'}\n",
      "0.702846 (0.179894) with: {'batch_size': 100, 'epochs': 10, 'learn_rate': 0.001, 'optimizer': 'Adam'}\n",
      "0.720528 (0.097062) with: {'batch_size': 100, 'epochs': 10, 'learn_rate': 0.001, 'optimizer': 'Adamax'}\n",
      "0.728049 (0.126293) with: {'batch_size': 100, 'epochs': 10, 'learn_rate': 0.001, 'optimizer': 'Nadam'}\n",
      "0.621748 (0.165902) with: {'batch_size': 100, 'epochs': 10, 'learn_rate': 0.01, 'optimizer': 'SGD'}\n",
      "0.738008 (0.112610) with: {'batch_size': 100, 'epochs': 10, 'learn_rate': 0.01, 'optimizer': 'RMSprop'}\n",
      "0.752846 (0.109898) with: {'batch_size': 100, 'epochs': 10, 'learn_rate': 0.01, 'optimizer': 'Adagrad'}\n",
      "0.679268 (0.104086) with: {'batch_size': 100, 'epochs': 10, 'learn_rate': 0.01, 'optimizer': 'Adadelta'}\n",
      "0.663618 (0.122568) with: {'batch_size': 100, 'epochs': 10, 'learn_rate': 0.01, 'optimizer': 'Adam'}\n",
      "0.786382 (0.044531) with: {'batch_size': 100, 'epochs': 10, 'learn_rate': 0.01, 'optimizer': 'Adamax'}\n",
      "0.624187 (0.167715) with: {'batch_size': 100, 'epochs': 10, 'learn_rate': 0.01, 'optimizer': 'Nadam'}\n",
      "0.571951 (0.161918) with: {'batch_size': 100, 'epochs': 10, 'learn_rate': 0.1, 'optimizer': 'SGD'}\n",
      "0.599797 (0.147287) with: {'batch_size': 100, 'epochs': 10, 'learn_rate': 0.1, 'optimizer': 'RMSprop'}\n",
      "0.794919 (0.024392) with: {'batch_size': 100, 'epochs': 10, 'learn_rate': 0.1, 'optimizer': 'Adagrad'}\n",
      "0.556911 (0.222726) with: {'batch_size': 100, 'epochs': 10, 'learn_rate': 0.1, 'optimizer': 'Adadelta'}\n",
      "0.558740 (0.117985) with: {'batch_size': 100, 'epochs': 10, 'learn_rate': 0.1, 'optimizer': 'Adam'}\n",
      "0.630894 (0.150948) with: {'batch_size': 100, 'epochs': 10, 'learn_rate': 0.1, 'optimizer': 'Adamax'}\n",
      "0.786789 (0.012986) with: {'batch_size': 100, 'epochs': 10, 'learn_rate': 0.1, 'optimizer': 'Nadam'}\n",
      "0.669512 (0.226805) with: {'batch_size': 100, 'epochs': 10, 'learn_rate': 0.2, 'optimizer': 'SGD'}\n",
      "0.762398 (0.080155) with: {'batch_size': 100, 'epochs': 10, 'learn_rate': 0.2, 'optimizer': 'RMSprop'}\n",
      "0.761382 (0.079386) with: {'batch_size': 100, 'epochs': 10, 'learn_rate': 0.2, 'optimizer': 'Adagrad'}\n",
      "0.786382 (0.044531) with: {'batch_size': 100, 'epochs': 10, 'learn_rate': 0.2, 'optimizer': 'Adadelta'}\n",
      "0.640447 (0.211765) with: {'batch_size': 100, 'epochs': 10, 'learn_rate': 0.2, 'optimizer': 'Adam'}\n",
      "0.746138 (0.082231) with: {'batch_size': 100, 'epochs': 10, 'learn_rate': 0.2, 'optimizer': 'Adamax'}\n",
      "0.671341 (0.084377) with: {'batch_size': 100, 'epochs': 10, 'learn_rate': 0.2, 'optimizer': 'Nadam'}\n",
      "0.770528 (0.030039) with: {'batch_size': 100, 'epochs': 10, 'learn_rate': 0.3, 'optimizer': 'SGD'}\n",
      "0.695122 (0.146680) with: {'batch_size': 100, 'epochs': 10, 'learn_rate': 0.3, 'optimizer': 'RMSprop'}\n",
      "0.794919 (0.014085) with: {'batch_size': 100, 'epochs': 10, 'learn_rate': 0.3, 'optimizer': 'Adagrad'}\n",
      "0.811179 (0.032420) with: {'batch_size': 100, 'epochs': 10, 'learn_rate': 0.3, 'optimizer': 'Adadelta'}\n",
      "0.794512 (0.053034) with: {'batch_size': 100, 'epochs': 10, 'learn_rate': 0.3, 'optimizer': 'Adam'}\n",
      "0.482520 (0.193480) with: {'batch_size': 100, 'epochs': 10, 'learn_rate': 0.3, 'optimizer': 'Adamax'}\n",
      "0.811179 (0.032420) with: {'batch_size': 100, 'epochs': 10, 'learn_rate': 0.3, 'optimizer': 'Nadam'}\n",
      "0.746138 (0.044753) with: {'batch_size': 100, 'epochs': 100, 'learn_rate': 0.001, 'optimizer': 'SGD'}\n",
      "0.753862 (0.022708) with: {'batch_size': 100, 'epochs': 100, 'learn_rate': 0.001, 'optimizer': 'RMSprop'}\n",
      "0.729878 (0.067730) with: {'batch_size': 100, 'epochs': 100, 'learn_rate': 0.001, 'optimizer': 'Adagrad'}\n",
      "0.713618 (0.047754) with: {'batch_size': 100, 'epochs': 100, 'learn_rate': 0.001, 'optimizer': 'Adadelta'}\n",
      "0.745732 (0.080996) with: {'batch_size': 100, 'epochs': 100, 'learn_rate': 0.001, 'optimizer': 'Adam'}\n",
      "0.803455 (0.033532) with: {'batch_size': 100, 'epochs': 100, 'learn_rate': 0.001, 'optimizer': 'Adamax'}\n",
      "0.721545 (0.044623) with: {'batch_size': 100, 'epochs': 100, 'learn_rate': 0.001, 'optimizer': 'Nadam'}\n",
      "0.713618 (0.043404) with: {'batch_size': 100, 'epochs': 100, 'learn_rate': 0.01, 'optimizer': 'SGD'}\n",
      "0.761789 (0.044811) with: {'batch_size': 100, 'epochs': 100, 'learn_rate': 0.01, 'optimizer': 'RMSprop'}\n",
      "0.720935 (0.076898) with: {'batch_size': 100, 'epochs': 100, 'learn_rate': 0.01, 'optimizer': 'Adagrad'}\n",
      "0.811382 (0.012803) with: {'batch_size': 100, 'epochs': 100, 'learn_rate': 0.01, 'optimizer': 'Adadelta'}\n",
      "0.787195 (0.028526) with: {'batch_size': 100, 'epochs': 100, 'learn_rate': 0.01, 'optimizer': 'Adam'}\n",
      "0.721341 (0.029984) with: {'batch_size': 100, 'epochs': 100, 'learn_rate': 0.01, 'optimizer': 'Adamax'}\n",
      "0.729268 (0.036341) with: {'batch_size': 100, 'epochs': 100, 'learn_rate': 0.01, 'optimizer': 'Nadam'}\n",
      "0.705488 (0.069962) with: {'batch_size': 100, 'epochs': 100, 'learn_rate': 0.1, 'optimizer': 'SGD'}\n",
      "0.745732 (0.014660) with: {'batch_size': 100, 'epochs': 100, 'learn_rate': 0.1, 'optimizer': 'RMSprop'}\n",
      "0.753862 (0.036178) with: {'batch_size': 100, 'epochs': 100, 'learn_rate': 0.1, 'optimizer': 'Adagrad'}\n",
      "0.713415 (0.056106) with: {'batch_size': 100, 'epochs': 100, 'learn_rate': 0.1, 'optimizer': 'Adadelta'}\n",
      "0.705081 (0.051740) with: {'batch_size': 100, 'epochs': 100, 'learn_rate': 0.1, 'optimizer': 'Adam'}\n",
      "0.736789 (0.084502) with: {'batch_size': 100, 'epochs': 100, 'learn_rate': 0.1, 'optimizer': 'Adamax'}\n",
      "0.745935 (0.010364) with: {'batch_size': 100, 'epochs': 100, 'learn_rate': 0.1, 'optimizer': 'Nadam'}\n",
      "0.762195 (0.031092) with: {'batch_size': 100, 'epochs': 100, 'learn_rate': 0.2, 'optimizer': 'SGD'}\n",
      "0.794919 (0.014085) with: {'batch_size': 100, 'epochs': 100, 'learn_rate': 0.2, 'optimizer': 'RMSprop'}\n",
      "0.737805 (0.021701) with: {'batch_size': 100, 'epochs': 100, 'learn_rate': 0.2, 'optimizer': 'Adagrad'}\n",
      "0.737805 (0.008623) with: {'batch_size': 100, 'epochs': 100, 'learn_rate': 0.2, 'optimizer': 'Adadelta'}\n",
      "0.737602 (0.031173) with: {'batch_size': 100, 'epochs': 100, 'learn_rate': 0.2, 'optimizer': 'Adam'}\n",
      "0.712805 (0.033335) with: {'batch_size': 100, 'epochs': 100, 'learn_rate': 0.2, 'optimizer': 'Adamax'}\n",
      "0.737805 (0.008623) with: {'batch_size': 100, 'epochs': 100, 'learn_rate': 0.2, 'optimizer': 'Nadam'}\n",
      "0.737805 (0.021701) with: {'batch_size': 100, 'epochs': 100, 'learn_rate': 0.3, 'optimizer': 'SGD'}\n",
      "0.737195 (0.053164) with: {'batch_size': 100, 'epochs': 100, 'learn_rate': 0.3, 'optimizer': 'RMSprop'}\n",
      "0.745732 (0.014660) with: {'batch_size': 100, 'epochs': 100, 'learn_rate': 0.3, 'optimizer': 'Adagrad'}\n",
      "0.794919 (0.024392) with: {'batch_size': 100, 'epochs': 100, 'learn_rate': 0.3, 'optimizer': 'Adadelta'}\n",
      "0.738211 (0.090853) with: {'batch_size': 100, 'epochs': 100, 'learn_rate': 0.3, 'optimizer': 'Adam'}\n",
      "0.738008 (0.056239) with: {'batch_size': 100, 'epochs': 100, 'learn_rate': 0.3, 'optimizer': 'Adamax'}\n",
      "0.754065 (0.059813) with: {'batch_size': 100, 'epochs': 100, 'learn_rate': 0.3, 'optimizer': 'Nadam'}\n"
     ]
    }
   ],
   "source": [
    "#Hyperparamater optimization. \n",
    "autoencoder = KerasClassifier(build_fn=autoencoder, verbose=0)\n",
    "\n",
    "batch_size = [10, 100]\n",
    "epochs = [10, 100]\n",
    "optimizer = ['SGD', 'RMSprop', 'Adagrad', 'Adadelta', 'Adam', 'Adamax', 'Nadam']\n",
    "learn_rate = [0.001, 0.01, 0.1, 0.2, 0.3]\n",
    "\n",
    "param_grid = dict(batch_size=batch_size, epochs=epochs,optimizer=optimizer,learn_rate=learn_rate)\n",
    "\n",
    "grid = GridSearchCV(estimator=autoencoder, param_grid=param_grid, n_jobs=5, cv=3)\n",
    "grid_result = grid.fit(x_train, y_train)\n",
    "\n",
    "print(\"Best: %f using %s\" % (grid_result.best_score_, grid_result.best_params_))\n",
    "means = grid_result.cv_results_['mean_test_score']\n",
    "stds = grid_result.cv_results_['std_test_score']\n",
    "params = grid_result.cv_results_['params']\n",
    "for mean, stdev, param in zip(means, stds, params):\n",
    "    print(\"%f (%f) with: %r\" % (mean, stdev, param))"
   ]
  },
  {
   "cell_type": "code",
   "execution_count": null,
   "id": "399df3d8",
   "metadata": {},
   "outputs": [],
   "source": []
  },
  {
   "cell_type": "code",
   "execution_count": 12,
   "id": "16073504",
   "metadata": {
    "scrolled": false
   },
   "outputs": [
    {
     "data": {
      "image/png": "[encoded data removed]",
      "text/plain": [
       "<Figure size 432x288 with 1 Axes>"
      ]
     },
     "metadata": {
      "needs_background": "light"
     },
     "output_type": "display_data"
    },
    {
     "data": {
      "image/png": "[encoded data removed]",
      "text/plain": [
       "<Figure size 432x288 with 1 Axes>"
      ]
     },
     "metadata": {
      "needs_background": "light"
     },
     "output_type": "display_data"
    }
   ],
   "source": [
    "#Plot loss and accuracy. \n",
    "history = autoencoder.fit(x_train, y_train, epochs=100,batch_size=100, validation_split=0.2)\n",
    "plt.plot(history.history['accuracy'])\n",
    "plt.plot(history.history['val_accuracy'])\n",
    "plt.title('model accuracy')\n",
    "plt.ylabel('accuracy')\n",
    "plt.xlabel('epoch')\n",
    "plt.legend(['train', 'test'], loc='upper left')\n",
    "plt.show()\n",
    "\n",
    "plt.plot(history.history['loss'])\n",
    "plt.plot(history.history['val_loss'])\n",
    "plt.title('model loss')\n",
    "plt.ylabel('loss')\n",
    "plt.xlabel('epoch')\n",
    "plt.legend(['train', 'test'], loc='upper left')\n",
    "plt.show()"
   ]
  },
  {
   "cell_type": "code",
   "execution_count": 13,
   "id": "ca20154c",
   "metadata": {},
   "outputs": [
    {
     "name": "stdout",
     "output_type": "stream",
     "text": [
      "Model: \"sequential_2\"\n",
      "_________________________________________________________________\n",
      " Layer (type)                Output Shape              Param #   \n",
      "=================================================================\n",
      " dense_6 (Dense)             (None, 306)               93942     \n",
      "                                                                 \n",
      " dense_7 (Dense)             (None, 154)               47278     \n",
      "                                                                 \n",
      " dense_8 (Dense)             (None, 1)                 155       \n",
      "                                                                 \n",
      "=================================================================\n",
      "Total params: 141,375\n",
      "Trainable params: 141,375\n",
      "Non-trainable params: 0\n",
      "_________________________________________________________________\n"
     ]
    }
   ],
   "source": [
    "#Best autoencoder model. \n",
    "autoencoder = Sequential()\n",
    "autoencoder.add(Dense(306,  activation='relu', input_shape=(306, )))\n",
    "autoencoder.add(Dense(154,  activation='relu'))\n",
    "autoencoder.add(Dense(1,  activation='sigmoid'))\n",
    "autoencoder.compile(loss='binary_crossentropy', optimizer = tf.keras.optimizers.Adadelta(learning_rate=0.01, name=\"Adadelta\"), metrics=['accuracy'])\n",
    "autoencoder.summary()\n",
    "\n"
   ]
  },
  {
   "cell_type": "code",
   "execution_count": 14,
   "id": "5ac693c9",
   "metadata": {
    "scrolled": true
   },
   "outputs": [
    {
     "name": "stdout",
     "output_type": "stream",
     "text": [
      "Epoch 1/100\n",
      "2/2 [==============================] - 0s 16ms/step - loss: 14.1493 - accuracy: 0.7951\n",
      "Epoch 2/100\n",
      "2/2 [==============================] - 0s 8ms/step - loss: 12.9846 - accuracy: 0.8033\n",
      "Epoch 3/100\n",
      "2/2 [==============================] - 0s 11ms/step - loss: 12.0143 - accuracy: 0.8115\n",
      "Epoch 4/100\n",
      "2/2 [==============================] - 0s 22ms/step - loss: 11.0373 - accuracy: 0.7951\n",
      "Epoch 5/100\n",
      "2/2 [==============================] - 0s 5ms/step - loss: 10.2077 - accuracy: 0.7869\n",
      "Epoch 6/100\n",
      "2/2 [==============================] - 0s 7ms/step - loss: 9.3193 - accuracy: 0.7623\n",
      "Epoch 7/100\n",
      "2/2 [==============================] - 0s 11ms/step - loss: 8.9849 - accuracy: 0.7295\n",
      "Epoch 8/100\n",
      "2/2 [==============================] - 0s 5ms/step - loss: 8.7239 - accuracy: 0.7295\n",
      "Epoch 9/100\n",
      "2/2 [==============================] - 0s 12ms/step - loss: 8.4180 - accuracy: 0.6885\n",
      "Epoch 10/100\n",
      "2/2 [==============================] - 0s 5ms/step - loss: 8.2493 - accuracy: 0.7459\n",
      "Epoch 11/100\n",
      "2/2 [==============================] - 0s 5ms/step - loss: 8.0322 - accuracy: 0.6967\n",
      "Epoch 12/100\n",
      "2/2 [==============================] - 0s 10ms/step - loss: 7.9017 - accuracy: 0.7377\n",
      "Epoch 13/100\n",
      "2/2 [==============================] - 0s 5ms/step - loss: 7.7560 - accuracy: 0.7459\n",
      "Epoch 14/100\n",
      "2/2 [==============================] - 0s 7ms/step - loss: 7.5566 - accuracy: 0.6721\n",
      "Epoch 15/100\n",
      "2/2 [==============================] - 0s 6ms/step - loss: 7.3845 - accuracy: 0.7377\n",
      "Epoch 16/100\n",
      "2/2 [==============================] - 0s 5ms/step - loss: 7.2407 - accuracy: 0.6967\n",
      "Epoch 17/100\n",
      "2/2 [==============================] - 0s 5ms/step - loss: 7.0774 - accuracy: 0.6721\n",
      "Epoch 18/100\n",
      "2/2 [==============================] - 0s 9ms/step - loss: 6.8641 - accuracy: 0.7049\n",
      "Epoch 19/100\n",
      "2/2 [==============================] - 0s 10ms/step - loss: 6.7588 - accuracy: 0.6803\n",
      "Epoch 20/100\n",
      "2/2 [==============================] - 0s 8ms/step - loss: 6.5816 - accuracy: 0.6967\n",
      "Epoch 21/100\n",
      "2/2 [==============================] - 0s 10ms/step - loss: 6.3766 - accuracy: 0.7213\n",
      "Epoch 22/100\n",
      "2/2 [==============================] - 0s 10ms/step - loss: 6.2471 - accuracy: 0.7131\n",
      "Epoch 23/100\n",
      "2/2 [==============================] - 0s 10ms/step - loss: 6.1294 - accuracy: 0.6721\n",
      "Epoch 24/100\n",
      "2/2 [==============================] - 0s 9ms/step - loss: 5.9827 - accuracy: 0.7541\n",
      "Epoch 25/100\n",
      "2/2 [==============================] - 0s 5ms/step - loss: 5.8223 - accuracy: 0.7131\n",
      "Epoch 26/100\n",
      "2/2 [==============================] - 0s 4ms/step - loss: 5.7232 - accuracy: 0.7459\n",
      "Epoch 27/100\n",
      "2/2 [==============================] - 0s 9ms/step - loss: 5.5560 - accuracy: 0.7377\n",
      "Epoch 28/100\n",
      "2/2 [==============================] - 0s 8ms/step - loss: 5.5408 - accuracy: 0.7131\n",
      "Epoch 29/100\n",
      "2/2 [==============================] - 0s 10ms/step - loss: 5.3076 - accuracy: 0.7213\n",
      "Epoch 30/100\n",
      "2/2 [==============================] - 0s 10ms/step - loss: 5.1665 - accuracy: 0.7623\n",
      "Epoch 31/100\n",
      "2/2 [==============================] - 0s 10ms/step - loss: 5.3617 - accuracy: 0.7213\n",
      "Epoch 32/100\n",
      "2/2 [==============================] - 0s 9ms/step - loss: 5.2879 - accuracy: 0.7213\n",
      "Epoch 33/100\n",
      "2/2 [==============================] - 0s 6ms/step - loss: 4.8057 - accuracy: 0.7787\n",
      "Epoch 34/100\n",
      "2/2 [==============================] - 0s 6ms/step - loss: 4.7810 - accuracy: 0.7623\n",
      "Epoch 35/100\n",
      "2/2 [==============================] - 0s 7ms/step - loss: 4.7372 - accuracy: 0.7541\n",
      "Epoch 36/100\n",
      "2/2 [==============================] - 0s 5ms/step - loss: 4.4478 - accuracy: 0.7869\n",
      "Epoch 37/100\n",
      "2/2 [==============================] - 0s 8ms/step - loss: 4.3582 - accuracy: 0.8033\n",
      "Epoch 38/100\n",
      "2/2 [==============================] - 0s 7ms/step - loss: 4.2949 - accuracy: 0.7951\n",
      "Epoch 39/100\n",
      "2/2 [==============================] - 0s 11ms/step - loss: 4.2172 - accuracy: 0.7705\n",
      "Epoch 40/100\n",
      "2/2 [==============================] - 0s 4ms/step - loss: 4.1535 - accuracy: 0.7705\n",
      "Epoch 41/100\n",
      "2/2 [==============================] - 0s 7ms/step - loss: 4.0099 - accuracy: 0.8033\n",
      "Epoch 42/100\n",
      "2/2 [==============================] - 0s 6ms/step - loss: 3.9439 - accuracy: 0.8115\n",
      "Epoch 43/100\n",
      "2/2 [==============================] - 0s 3ms/step - loss: 3.8434 - accuracy: 0.8361\n",
      "Epoch 44/100\n",
      "2/2 [==============================] - 0s 9ms/step - loss: 3.7926 - accuracy: 0.8115\n",
      "Epoch 45/100\n",
      "2/2 [==============================] - 0s 9ms/step - loss: 3.7063 - accuracy: 0.8279\n",
      "Epoch 46/100\n",
      "2/2 [==============================] - 0s 7ms/step - loss: 3.6691 - accuracy: 0.8197\n",
      "Epoch 47/100\n",
      "2/2 [==============================] - 0s 3ms/step - loss: 3.6017 - accuracy: 0.8279\n",
      "Epoch 48/100\n",
      "2/2 [==============================] - 0s 5ms/step - loss: 3.5383 - accuracy: 0.8443\n",
      "Epoch 49/100\n",
      "2/2 [==============================] - 0s 7ms/step - loss: 3.4688 - accuracy: 0.8361\n",
      "Epoch 50/100\n",
      "2/2 [==============================] - 0s 4ms/step - loss: 3.4797 - accuracy: 0.8361\n",
      "Epoch 51/100\n",
      "2/2 [==============================] - 0s 6ms/step - loss: 3.4168 - accuracy: 0.8361\n",
      "Epoch 52/100\n",
      "2/2 [==============================] - 0s 7ms/step - loss: 3.3668 - accuracy: 0.8279\n",
      "Epoch 53/100\n",
      "2/2 [==============================] - 0s 6ms/step - loss: 3.2507 - accuracy: 0.8443\n",
      "Epoch 54/100\n",
      "2/2 [==============================] - 0s 5ms/step - loss: 3.1711 - accuracy: 0.8525\n",
      "Epoch 55/100\n",
      "2/2 [==============================] - 0s 7ms/step - loss: 3.1385 - accuracy: 0.8689\n",
      "Epoch 56/100\n",
      "2/2 [==============================] - 0s 6ms/step - loss: 3.1743 - accuracy: 0.8279\n",
      "Epoch 57/100\n",
      "2/2 [==============================] - 0s 6ms/step - loss: 3.1035 - accuracy: 0.8525\n",
      "Epoch 58/100\n",
      "2/2 [==============================] - 0s 5ms/step - loss: 3.1029 - accuracy: 0.8197\n",
      "Epoch 59/100\n",
      "2/2 [==============================] - 0s 6ms/step - loss: 2.9415 - accuracy: 0.8361\n",
      "Epoch 60/100\n",
      "2/2 [==============================] - 0s 4ms/step - loss: 2.9382 - accuracy: 0.8852\n",
      "Epoch 61/100\n",
      "2/2 [==============================] - 0s 7ms/step - loss: 2.8377 - accuracy: 0.8934\n",
      "Epoch 62/100\n",
      "2/2 [==============================] - 0s 5ms/step - loss: 2.8641 - accuracy: 0.8689\n",
      "Epoch 63/100\n",
      "2/2 [==============================] - 0s 5ms/step - loss: 2.7971 - accuracy: 0.8689\n",
      "Epoch 64/100\n",
      "2/2 [==============================] - 0s 5ms/step - loss: 2.7095 - accuracy: 0.9098\n",
      "Epoch 65/100\n",
      "2/2 [==============================] - 0s 7ms/step - loss: 2.6649 - accuracy: 0.8607\n",
      "Epoch 66/100\n",
      "2/2 [==============================] - 0s 4ms/step - loss: 2.6487 - accuracy: 0.8525\n",
      "Epoch 67/100\n",
      "2/2 [==============================] - 0s 4ms/step - loss: 2.6392 - accuracy: 0.8197\n",
      "Epoch 68/100\n",
      "2/2 [==============================] - 0s 6ms/step - loss: 2.5160 - accuracy: 0.8852\n",
      "Epoch 69/100\n",
      "2/2 [==============================] - 0s 5ms/step - loss: 2.4889 - accuracy: 0.9016\n",
      "Epoch 70/100\n",
      "2/2 [==============================] - 0s 2ms/step - loss: 2.4772 - accuracy: 0.8361\n",
      "Epoch 71/100\n",
      "2/2 [==============================] - 0s 8ms/step - loss: 2.3892 - accuracy: 0.8852\n",
      "Epoch 72/100\n",
      "2/2 [==============================] - 0s 7ms/step - loss: 2.3639 - accuracy: 0.8852\n",
      "Epoch 73/100\n",
      "2/2 [==============================] - 0s 5ms/step - loss: 2.3619 - accuracy: 0.8279\n",
      "Epoch 74/100\n",
      "2/2 [==============================] - 0s 8ms/step - loss: 2.3534 - accuracy: 0.9016\n",
      "Epoch 75/100\n",
      "2/2 [==============================] - 0s 6ms/step - loss: 2.4055 - accuracy: 0.8934\n",
      "Epoch 76/100\n",
      "2/2 [==============================] - 0s 4ms/step - loss: 2.2437 - accuracy: 0.9098\n",
      "Epoch 77/100\n",
      "2/2 [==============================] - 0s 8ms/step - loss: 2.2094 - accuracy: 0.9098\n",
      "Epoch 78/100\n",
      "2/2 [==============================] - 0s 5ms/step - loss: 2.1520 - accuracy: 0.9180\n",
      "Epoch 79/100\n",
      "2/2 [==============================] - 0s 4ms/step - loss: 2.1481 - accuracy: 0.8852\n",
      "Epoch 80/100\n",
      "2/2 [==============================] - 0s 5ms/step - loss: 2.2481 - accuracy: 0.8934\n",
      "Epoch 81/100\n",
      "2/2 [==============================] - 0s 7ms/step - loss: 2.0704 - accuracy: 0.8852\n",
      "Epoch 82/100\n",
      "2/2 [==============================] - 0s 5ms/step - loss: 2.0437 - accuracy: 0.8770\n",
      "Epoch 83/100\n",
      "2/2 [==============================] - 0s 5ms/step - loss: 2.0683 - accuracy: 0.9344\n",
      "Epoch 84/100\n"
     ]
    },
    {
     "name": "stdout",
     "output_type": "stream",
     "text": [
      "2/2 [==============================] - 0s 9ms/step - loss: 2.0017 - accuracy: 0.9180\n",
      "Epoch 85/100\n",
      "2/2 [==============================] - 0s 6ms/step - loss: 1.9643 - accuracy: 0.9344\n",
      "Epoch 86/100\n",
      "2/2 [==============================] - 0s 5ms/step - loss: 1.9257 - accuracy: 0.9016\n",
      "Epoch 87/100\n",
      "2/2 [==============================] - 0s 9ms/step - loss: 1.8924 - accuracy: 0.8689\n",
      "Epoch 88/100\n",
      "2/2 [==============================] - 0s 6ms/step - loss: 1.9464 - accuracy: 0.9262\n",
      "Epoch 89/100\n",
      "2/2 [==============================] - 0s 7ms/step - loss: 1.8956 - accuracy: 0.9262\n",
      "Epoch 90/100\n",
      "2/2 [==============================] - 0s 7ms/step - loss: 1.8095 - accuracy: 0.8770\n",
      "Epoch 91/100\n",
      "2/2 [==============================] - 0s 6ms/step - loss: 1.7738 - accuracy: 0.9098\n",
      "Epoch 92/100\n",
      "2/2 [==============================] - 0s 7ms/step - loss: 1.7567 - accuracy: 0.9180\n",
      "Epoch 93/100\n",
      "2/2 [==============================] - 0s 6ms/step - loss: 1.7282 - accuracy: 0.9180\n",
      "Epoch 94/100\n",
      "2/2 [==============================] - 0s 6ms/step - loss: 1.6990 - accuracy: 0.9262\n",
      "Epoch 95/100\n",
      "2/2 [==============================] - 0s 4ms/step - loss: 1.6746 - accuracy: 0.8279\n",
      "Epoch 96/100\n",
      "2/2 [==============================] - 0s 5ms/step - loss: 1.6531 - accuracy: 0.9344\n",
      "Epoch 97/100\n",
      "2/2 [==============================] - 0s 4ms/step - loss: 1.6063 - accuracy: 0.9344\n",
      "Epoch 98/100\n",
      "2/2 [==============================] - 0s 6ms/step - loss: 1.6157 - accuracy: 0.8361\n",
      "Epoch 99/100\n",
      "2/2 [==============================] - 0s 7ms/step - loss: 1.5385 - accuracy: 0.8361\n",
      "Epoch 100/100\n",
      "2/2 [==============================] - 0s 6ms/step - loss: 1.5192 - accuracy: 0.9344\n"
     ]
    },
    {
     "data": {
      "text/plain": [
       "<keras.callbacks.History at 0x207b13dbe50>"
      ]
     },
     "execution_count": 14,
     "metadata": {},
     "output_type": "execute_result"
    }
   ],
   "source": [
    "#Fit best model to apoptosis data. \n",
    "autoencoder.fit(x_train,y_train, batch_size= 100, epochs= 100)\n"
   ]
  },
  {
   "cell_type": "code",
   "execution_count": null,
   "id": "5310b57b",
   "metadata": {},
   "outputs": [],
   "source": []
  },
  {
   "cell_type": "code",
   "execution_count": 15,
   "id": "77a5f0c4",
   "metadata": {
    "scrolled": false
   },
   "outputs": [
    {
     "name": "stdout",
     "output_type": "stream",
     "text": [
      "[1. 1. 1. 1. 1. 0. 0. 1. 1. 0. 1. 1. 1. 1. 1. 1. 0. 1. 0. 1. 1. 0. 1. 1.\n",
      " 0. 1. 1. 1. 1. 1. 1. 1. 1. 1. 1. 1. 1. 1. 1. 1. 1.]\n",
      "0.8529411764705882\n",
      "[1 1 1 0 1 1 0 1 0 1 1 1 1 1 1 1 1 0 0 1 1 1 0 1 1 1 1 1 1 1 0 1 1 1 1 1 1\n",
      " 1 1 1 1]\n",
      "<class 'numpy.ndarray'>\n"
     ]
    },
    {
     "data": {
      "text/plain": [
       "[]"
      ]
     },
     "execution_count": 15,
     "metadata": {},
     "output_type": "execute_result"
    },
    {
     "data": {
      "image/png": "[encoded data removed]",
      "text/plain": [
       "<Figure size 432x288 with 1 Axes>"
      ]
     },
     "metadata": {
      "needs_background": "light"
     },
     "output_type": "display_data"
    }
   ],
   "source": [
    "#Make prections using apoptosis data and model. \n",
    "predictions = autoencoder.predict(x_test)\n",
    "test_predictions = []\n",
    "for l in predictions: \n",
    "    for item in l:\n",
    "        test_predictions.append(item)\n",
    "test_predictions = np.array(test_predictions)\n",
    "test_predictions = np.round(test_predictions)\n",
    "\n",
    "print(test_predictions)\n",
    "f1score=f1_score(test_predictions,y_test)\n",
    "\n",
    "print(f1score)\n",
    "print(y_test)\n",
    "print(type(y_test))\n",
    "\n",
    "plt.scatter(y_test, test_predictions)\n",
    "plt.plot()"
   ]
  },
  {
   "cell_type": "code",
   "execution_count": 16,
   "id": "7bb496d4",
   "metadata": {},
   "outputs": [
    {
     "data": {
      "text/plain": [
       "array([[ 2,  5],\n",
       "       [ 5, 29]], dtype=int64)"
      ]
     },
     "execution_count": 16,
     "metadata": {},
     "output_type": "execute_result"
    }
   ],
   "source": [
    "#Confusion matrix of apoptosis data. \n",
    "confusion_matrix(y_test, test_predictions)"
   ]
  },
  {
   "cell_type": "code",
   "execution_count": 47,
   "id": "8619e5b9",
   "metadata": {},
   "outputs": [],
   "source": []
  },
  {
   "cell_type": "code",
   "execution_count": null,
   "id": "8593c02d",
   "metadata": {},
   "outputs": [],
   "source": []
  }
 ],
 "metadata": {
  "kernelspec": {
   "display_name": "Python 3 (ipykernel)",
   "language": "python",
   "name": "python3"
  },
  "language_info": {
   "codemirror_mode": {
    "name": "ipython",
    "version": 3
   },
   "file_extension": ".py",
   "mimetype": "text/x-python",
   "name": "python",
   "nbconvert_exporter": "python",
   "pygments_lexer": "ipython3",
   "version": "3.9.7"
  }
 },
 "nbformat": 4,
 "nbformat_minor": 5
}
